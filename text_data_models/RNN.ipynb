{
 "cells": [
  {
   "attachments": {},
   "cell_type": "markdown",
   "metadata": {},
   "source": [
    "Resource:\n",
    "Chapter 10 and 11 from \"Deep Learning with Python\" (2nd edition), by Francois Chollet \n",
    "\n",
    "* Ch. 10: Deep Learning for time series\n",
    "* Ch. 11: Deep Learning for text\n",
    "\n",
    "Note: first and second edition books have slightly different contents about RNNs. "
   ]
  },
  {
   "attachments": {},
   "cell_type": "markdown",
   "metadata": {},
   "source": [
    "Examples of timeseries data:  daily price of a stock, the hourly electricity consumption of a city, the evolution of fish populations in a river, or the weather at a location, country’s GDP, or credit card transactions.\n",
    "\n",
    "The most common timeseries-related task is **forecasting**: predicting what will happen next in a series. Ex: Forecast electricity consumption a few hours in advance so you can anticipate demand. Ch 10 focuses on forecasting. We will learn about recurrent neural networks (RNNs) and how to apply them to timeseries forecasting."
   ]
  },
  {
   "attachments": {},
   "cell_type": "markdown",
   "metadata": {},
   "source": [
    "**Temperature forecasting example**"
   ]
  },
  {
   "cell_type": "code",
   "execution_count": 1,
   "metadata": {},
   "outputs": [],
   "source": [
    "import os # default module\n",
    "import numpy as np\n",
    "from matplotlib import pyplot as plt\n",
    "import pandas as pd  \n",
    "import seaborn as sns ## this is like ggplot in R\n",
    "\n",
    "from tensorflow import keras\n",
    "from keras import layers"
   ]
  },
  {
   "cell_type": "code",
   "execution_count": 2,
   "metadata": {},
   "outputs": [
    {
     "data": {
      "text/plain": [
       "'c:\\\\Users\\\\tpr16\\\\OneDrive - The Pennsylvania State University\\\\QunhuaLi__Project\\\\VS_codes\\\\hello_ds\\\\text_data_models'"
      ]
     },
     "execution_count": 2,
     "metadata": {},
     "output_type": "execute_result"
    }
   ],
   "source": [
    "os.getcwd()"
   ]
  },
  {
   "cell_type": "code",
   "execution_count": 3,
   "metadata": {},
   "outputs": [
    {
     "data": {
      "text/plain": [
       "'jena_climate_2009_2016.csv'"
      ]
     },
     "execution_count": 3,
     "metadata": {},
     "output_type": "execute_result"
    }
   ],
   "source": [
    "fname = os.path.join(\"jena_climate_2009_2016.csv\") # path to data\n",
    "fname  "
   ]
  },
  {
   "cell_type": "code",
   "execution_count": 4,
   "metadata": {},
   "outputs": [
    {
     "data": {
      "text/plain": [
       "str"
      ]
     },
     "execution_count": 4,
     "metadata": {},
     "output_type": "execute_result"
    }
   ],
   "source": [
    "with open(fname) as f:\n",
    "    data = f.read()   # open and read file\n",
    "\n",
    "type(data) # string file"
   ]
  },
  {
   "cell_type": "code",
   "execution_count": 5,
   "metadata": {},
   "outputs": [
    {
     "data": {
      "text/plain": [
       "list"
      ]
     },
     "execution_count": 5,
     "metadata": {},
     "output_type": "execute_result"
    }
   ],
   "source": [
    "lines = data.split(\"\\n\") # .split will split the string in object \"data\" into a list. Split occurs everytime new line is observed (i.e. \\n)\n",
    "type(lines) # list  object"
   ]
  },
  {
   "cell_type": "code",
   "execution_count": 6,
   "metadata": {},
   "outputs": [
    {
     "data": {
      "text/plain": [
       "'\"Date Time\",\"p (mbar)\",\"T (degC)\",\"Tpot (K)\",\"Tdew (degC)\",\"rh (%)\",\"VPmax (mbar)\",\"VPact (mbar)\",\"VPdef (mbar)\",\"sh (g/kg)\",\"H2OC (mmol/mol)\",\"rho (g/m**3)\",\"wv (m/s)\",\"max. wv (m/s)\",\"wd (deg)\"'"
      ]
     },
     "execution_count": 6,
     "metadata": {},
     "output_type": "execute_result"
    }
   ],
   "source": [
    "lines[0] # contains all column names"
   ]
  },
  {
   "cell_type": "code",
   "execution_count": 9,
   "metadata": {},
   "outputs": [
    {
     "data": {
      "text/plain": [
       "['\"Date Time\"',\n",
       " '\"p (mbar)\"',\n",
       " '\"T (degC)\"',\n",
       " '\"Tpot (K)\"',\n",
       " '\"Tdew (degC)\"',\n",
       " '\"rh (%)\"',\n",
       " '\"VPmax (mbar)\"',\n",
       " '\"VPact (mbar)\"',\n",
       " '\"VPdef (mbar)\"',\n",
       " '\"sh (g/kg)\"',\n",
       " '\"H2OC (mmol/mol)\"',\n",
       " '\"rho (g/m**3)\"',\n",
       " '\"wv (m/s)\"',\n",
       " '\"max. wv (m/s)\"',\n",
       " '\"wd (deg)\"']"
      ]
     },
     "execution_count": 9,
     "metadata": {},
     "output_type": "execute_result"
    }
   ],
   "source": [
    "header = lines[0].split(\",\")\n",
    "header # list of column names"
   ]
  },
  {
   "cell_type": "code",
   "execution_count": 10,
   "metadata": {},
   "outputs": [
    {
     "data": {
      "text/plain": [
       "'01.01.2009 00:10:00,996.52,-8.02,265.40,-8.90,93.30,3.33,3.11,0.22,1.94,3.12,1307.75,1.03,1.75,152.30'"
      ]
     },
     "execution_count": 10,
     "metadata": {},
     "output_type": "execute_result"
    }
   ],
   "source": [
    "lines = lines[1:]  # list of rows in data\n",
    "lines[0] # 1st row of the object \"data\""
   ]
  },
  {
   "attachments": {},
   "cell_type": "markdown",
   "metadata": {},
   "source": [
    "Each line/row is a timestep: a record of a date and 14 weather-related values.\n",
    "\n",
    "The dataset has 420,450 rows/lines/timestamps"
   ]
  },
  {
   "cell_type": "code",
   "execution_count": 11,
   "metadata": {},
   "outputs": [
    {
     "data": {
      "text/plain": [
       "420451"
      ]
     },
     "execution_count": 11,
     "metadata": {},
     "output_type": "execute_result"
    }
   ],
   "source": [
    "len(lines)"
   ]
  },
  {
   "attachments": {},
   "cell_type": "markdown",
   "metadata": {},
   "source": [
    "Converting data into numpy arrays\n",
    "\n",
    "**Aim**: To predict temperature using 14 predictors like pressure, humidity etc. Data from 2009 to 2016 is considered\n",
    "\n",
    "14 different quantities were recorded every 10 minutes over several years. (144 measurements per day)"
   ]
  },
  {
   "cell_type": "code",
   "execution_count": 12,
   "metadata": {},
   "outputs": [],
   "source": [
    "# to store response\n",
    "temperature = np.zeros((len(lines),)) # np array with 420,450 rows and any number of columns (ncol not specified) \n",
    "time_stamps = np.zeros((len(lines),))\n",
    "\n",
    "# to store predictors\n",
    "raw_data = np.zeros((len(lines), len(header) - 1)) #nrows = 420,450; #ncol = 14 (exclude the date and time variable)"
   ]
  },
  {
   "attachments": {},
   "cell_type": "markdown",
   "metadata": {},
   "source": [
    "Below example shows what enumerate function outputs. This is used to create our np arrays: temperature and raw_data"
   ]
  },
  {
   "cell_type": "code",
   "execution_count": 13,
   "metadata": {},
   "outputs": [
    {
     "name": "stdout",
     "output_type": "stream",
     "text": [
      "[(0, 'apple'), (1, 'mango'), (2, 'banana')]\n"
     ]
    },
    {
     "data": {
      "text/plain": [
       "enumerate"
      ]
     },
     "execution_count": 13,
     "metadata": {},
     "output_type": "execute_result"
    }
   ],
   "source": [
    "example = ['apple', 'mango', 'banana'] # list\n",
    "type(example)\n",
    "print(list(enumerate(example)))\n",
    "type(enumerate(example))"
   ]
  },
  {
   "cell_type": "code",
   "execution_count": 14,
   "metadata": {},
   "outputs": [],
   "source": [
    "# .split and enumerate helped us avoid 3 loops i.e. allow faster computation\n",
    "# benefit of python: dynamic lists\n",
    "\n",
    "for i, line in enumerate(lines): # i = iteration number, line = list (in object \"lines\") corresponding to i-th iteration\n",
    "    # list comprehension used to define \"values\" object\n",
    "    # here enumeration starts from 1 i.e. we omit 0-th column (Date Time column)\n",
    "    values = [float(x) for x in line.split(\",\")[1:]] # {float(X) | x \\in list_of_row_elements } \n",
    "    temperature[i] = values[1]  # response vector                    \n",
    "    raw_data[i, :] = values[:]  # reponse and 14 predictors "
   ]
  },
  {
   "cell_type": "code",
   "execution_count": 16,
   "metadata": {},
   "outputs": [
    {
     "name": "stdout",
     "output_type": "stream",
     "text": [
      "(420451, 14)\n"
     ]
    },
    {
     "data": {
      "text/plain": [
       "420451"
      ]
     },
     "execution_count": 16,
     "metadata": {},
     "output_type": "execute_result"
    }
   ],
   "source": [
    "print(raw_data.shape) # (nrows, ncols)\n",
    "len(raw_data) # nrows"
   ]
  },
  {
   "attachments": {},
   "cell_type": "markdown",
   "metadata": {},
   "source": [
    "CHECK"
   ]
  },
  {
   "cell_type": "code",
   "execution_count": 14,
   "metadata": {},
   "outputs": [],
   "source": [
    "# creating list of all time stamps\n",
    "#for i, line in enumerate(lines):\n",
    "#    time = [str(x) for x in line.split(\" \")[0]]\n",
    "#    time_stamps[i] = time[0]\n",
    "#\n",
    "#time_stamps[0:4]"
   ]
  },
  {
   "attachments": {},
   "cell_type": "markdown",
   "metadata": {},
   "source": [
    "Plotting temperature time series\n",
    "\n",
    "Local and global periodicity exists. However, global periodicity is more clear. Locally, there is more chaos."
   ]
  },
  {
   "cell_type": "code",
   "execution_count": 17,
   "metadata": {},
   "outputs": [
    {
     "data": {
      "text/plain": [
       "Text(0, 0.5, 'Temperature (Celsius)')"
      ]
     },
     "execution_count": 17,
     "metadata": {},
     "output_type": "execute_result"
    },
    {
     "data": {
      "image/png": "[encoded data removed]",
      "text/plain": [
       "<Figure size 640x480 with 1 Axes>"
      ]
     },
     "metadata": {},
     "output_type": "display_data"
    }
   ],
   "source": [
    "plt.plot(range(len(temperature)), temperature)\n",
    "plt.xlabel(\"Time points\")\n",
    "plt.ylabel(\"Temperature (Celsius)\")"
   ]
  },
  {
   "attachments": {},
   "cell_type": "markdown",
   "metadata": {},
   "source": [
    "Zoomed in plot: Plotting only 10 days (144 measurements per day)"
   ]
  },
  {
   "cell_type": "code",
   "execution_count": 18,
   "metadata": {},
   "outputs": [
    {
     "data": {
      "text/plain": [
       "Text(0, 0.5, 'Temperature (Celsius)')"
      ]
     },
     "execution_count": 18,
     "metadata": {},
     "output_type": "execute_result"
    },
    {
     "data": {
      "image/png": "[encoded data removed]",
      "text/plain": [
       "<Figure size 640x480 with 1 Axes>"
      ]
     },
     "metadata": {},
     "output_type": "display_data"
    }
   ],
   "source": [
    "plt.plot(range(1440), temperature[:1440])\n",
    "plt.xlabel(\"Time points\")\n",
    "plt.ylabel(\"Temperature (Celsius)\")"
   ]
  },
  {
   "attachments": {},
   "cell_type": "markdown",
   "metadata": {},
   "source": [
    "* Predicting avg temp for next month, given avg temp of previous months - easier since more periodic\n",
    "* data over a scale of days, the temperature looks a lot more chaotic. Predicting temperature tomorrow given past - more difficult problem"
   ]
  },
  {
   "attachments": {},
   "cell_type": "markdown",
   "metadata": {},
   "source": [
    "First 50% data is for training, next 25% for validationand final 25% for testing\n",
    "\n",
    "**Note**: Here we do not randomly sample data to belong tp test, train, val since time sequence is important. (i.e. test must be most recent events because we want to predict the future)\n",
    "\n",
    "In case of time series data, val and test sets should be more recent than training data."
   ]
  },
  {
   "cell_type": "code",
   "execution_count": 19,
   "metadata": {},
   "outputs": [
    {
     "name": "stdout",
     "output_type": "stream",
     "text": [
      "num_train_samples: 210225\n",
      "num_val_samples: 105112\n",
      "num_test_samples: 105114\n"
     ]
    }
   ],
   "source": [
    "num_train_samples = int(0.5 * len(raw_data))\n",
    "num_val_samples = int(0.25 * len(raw_data))\n",
    "num_test_samples = len(raw_data) - num_train_samples - num_val_samples\n",
    "\n",
    "print(\"num_train_samples:\", num_train_samples)\n",
    "print(\"num_val_samples:\", num_val_samples)\n",
    "print(\"num_test_samples:\", num_test_samples)"
   ]
  },
  {
   "cell_type": "code",
   "execution_count": 20,
   "metadata": {},
   "outputs": [
    {
     "data": {
      "text/plain": [
       "array([[ 9.96520e+02, -8.02000e+00,  2.65400e+02, -8.90000e+00,\n",
       "         9.33000e+01,  3.33000e+00,  3.11000e+00,  2.20000e-01,\n",
       "         1.94000e+00,  3.12000e+00,  1.30775e+03,  1.03000e+00,\n",
       "         1.75000e+00,  1.52300e+02],\n",
       "       [ 9.96570e+02, -8.41000e+00,  2.65010e+02, -9.28000e+00,\n",
       "         9.34000e+01,  3.23000e+00,  3.02000e+00,  2.10000e-01,\n",
       "         1.89000e+00,  3.03000e+00,  1.30980e+03,  7.20000e-01,\n",
       "         1.50000e+00,  1.36100e+02],\n",
       "       [ 9.96530e+02, -8.51000e+00,  2.64910e+02, -9.31000e+00,\n",
       "         9.39000e+01,  3.21000e+00,  3.01000e+00,  2.00000e-01,\n",
       "         1.88000e+00,  3.02000e+00,  1.31024e+03,  1.90000e-01,\n",
       "         6.30000e-01,  1.71600e+02]])"
      ]
     },
     "execution_count": 20,
     "metadata": {},
     "output_type": "execute_result"
    }
   ],
   "source": [
    "raw_data[:3]"
   ]
  },
  {
   "cell_type": "code",
   "execution_count": 21,
   "metadata": {},
   "outputs": [
    {
     "data": {
      "text/plain": [
       "['\"p (mbar)\"',\n",
       " '\"T (degC)\"',\n",
       " '\"Tpot (K)\"',\n",
       " '\"Tdew (degC)\"',\n",
       " '\"rh (%)\"',\n",
       " '\"VPmax (mbar)\"',\n",
       " '\"VPact (mbar)\"',\n",
       " '\"VPdef (mbar)\"',\n",
       " '\"sh (g/kg)\"',\n",
       " '\"H2OC (mmol/mol)\"',\n",
       " '\"rho (g/m**3)\"',\n",
       " '\"wv (m/s)\"',\n",
       " '\"max. wv (m/s)\"',\n",
       " '\"wd (deg)\"']"
      ]
     },
     "execution_count": 21,
     "metadata": {},
     "output_type": "execute_result"
    }
   ],
   "source": [
    "header[1:]"
   ]
  },
  {
   "cell_type": "code",
   "execution_count": 22,
   "metadata": {},
   "outputs": [
    {
     "data": {
      "image/png": "[encoded data removed]",
      "text/plain": [
       "<Figure size 640x480 with 14 Axes>"
      ]
     },
     "metadata": {},
     "output_type": "display_data"
    }
   ],
   "source": [
    "raw_data_df = pd.DataFrame(raw_data, columns=header[1:])\n",
    "\n",
    "n_rows = 2\n",
    "n_cols = 7\n",
    "count = 0\n",
    "col_num = 0\n",
    "\n",
    "# seaborn facet grid\n",
    "\n",
    "plt.subplots(n_rows, n_cols)\n",
    "for i in range(n_rows):\n",
    "    for j in range(n_cols):\n",
    "        plt.subplot(n_rows, n_cols, count+1)\n",
    "        sns.boxplot(raw_data_df.iloc[:, col_num], orient='vertical')\n",
    "        if col_num < raw_data_df.shape[1] :\n",
    "            count += 1\n",
    "            col_num += 1\n",
    "\n",
    "plt.show()"
   ]
  },
  {
   "cell_type": "code",
   "execution_count": 23,
   "metadata": {},
   "outputs": [
    {
     "data": {
      "text/html": [
       "<div>\n",
       "<style scoped>\n",
       "    .dataframe tbody tr th:only-of-type {\n",
       "        vertical-align: middle;\n",
       "    }\n",
       "\n",
       "    .dataframe tbody tr th {\n",
       "        vertical-align: top;\n",
       "    }\n",
       "\n",
       "    .dataframe thead th {\n",
       "        text-align: right;\n",
       "    }\n",
       "</style>\n",
       "<table border=\"1\" class=\"dataframe\">\n",
       "  <thead>\n",
       "    <tr style=\"text-align: right;\">\n",
       "      <th></th>\n",
       "      <th>\"p (mbar)\"</th>\n",
       "      <th>\"T (degC)\"</th>\n",
       "      <th>\"Tpot (K)\"</th>\n",
       "      <th>\"Tdew (degC)\"</th>\n",
       "      <th>\"rh (%)\"</th>\n",
       "      <th>\"VPmax (mbar)\"</th>\n",
       "      <th>\"VPact (mbar)\"</th>\n",
       "      <th>\"VPdef (mbar)\"</th>\n",
       "      <th>\"sh (g/kg)\"</th>\n",
       "      <th>\"H2OC (mmol/mol)\"</th>\n",
       "      <th>\"rho (g/m**3)\"</th>\n",
       "      <th>\"wv (m/s)\"</th>\n",
       "      <th>\"max. wv (m/s)\"</th>\n",
       "      <th>\"wd (deg)\"</th>\n",
       "    </tr>\n",
       "  </thead>\n",
       "  <tbody>\n",
       "    <tr>\n",
       "      <th>0</th>\n",
       "      <td>996.52</td>\n",
       "      <td>-8.02</td>\n",
       "      <td>265.40</td>\n",
       "      <td>-8.90</td>\n",
       "      <td>93.3</td>\n",
       "      <td>3.33</td>\n",
       "      <td>3.11</td>\n",
       "      <td>0.22</td>\n",
       "      <td>1.94</td>\n",
       "      <td>3.12</td>\n",
       "      <td>1307.75</td>\n",
       "      <td>1.03</td>\n",
       "      <td>1.75</td>\n",
       "      <td>152.3</td>\n",
       "    </tr>\n",
       "    <tr>\n",
       "      <th>1</th>\n",
       "      <td>996.57</td>\n",
       "      <td>-8.41</td>\n",
       "      <td>265.01</td>\n",
       "      <td>-9.28</td>\n",
       "      <td>93.4</td>\n",
       "      <td>3.23</td>\n",
       "      <td>3.02</td>\n",
       "      <td>0.21</td>\n",
       "      <td>1.89</td>\n",
       "      <td>3.03</td>\n",
       "      <td>1309.80</td>\n",
       "      <td>0.72</td>\n",
       "      <td>1.50</td>\n",
       "      <td>136.1</td>\n",
       "    </tr>\n",
       "    <tr>\n",
       "      <th>2</th>\n",
       "      <td>996.53</td>\n",
       "      <td>-8.51</td>\n",
       "      <td>264.91</td>\n",
       "      <td>-9.31</td>\n",
       "      <td>93.9</td>\n",
       "      <td>3.21</td>\n",
       "      <td>3.01</td>\n",
       "      <td>0.20</td>\n",
       "      <td>1.88</td>\n",
       "      <td>3.02</td>\n",
       "      <td>1310.24</td>\n",
       "      <td>0.19</td>\n",
       "      <td>0.63</td>\n",
       "      <td>171.6</td>\n",
       "    </tr>\n",
       "    <tr>\n",
       "      <th>3</th>\n",
       "      <td>996.51</td>\n",
       "      <td>-8.31</td>\n",
       "      <td>265.12</td>\n",
       "      <td>-9.07</td>\n",
       "      <td>94.2</td>\n",
       "      <td>3.26</td>\n",
       "      <td>3.07</td>\n",
       "      <td>0.19</td>\n",
       "      <td>1.92</td>\n",
       "      <td>3.08</td>\n",
       "      <td>1309.19</td>\n",
       "      <td>0.34</td>\n",
       "      <td>0.50</td>\n",
       "      <td>198.0</td>\n",
       "    </tr>\n",
       "    <tr>\n",
       "      <th>4</th>\n",
       "      <td>996.51</td>\n",
       "      <td>-8.27</td>\n",
       "      <td>265.15</td>\n",
       "      <td>-9.04</td>\n",
       "      <td>94.1</td>\n",
       "      <td>3.27</td>\n",
       "      <td>3.08</td>\n",
       "      <td>0.19</td>\n",
       "      <td>1.92</td>\n",
       "      <td>3.09</td>\n",
       "      <td>1309.00</td>\n",
       "      <td>0.32</td>\n",
       "      <td>0.63</td>\n",
       "      <td>214.3</td>\n",
       "    </tr>\n",
       "  </tbody>\n",
       "</table>\n",
       "</div>"
      ],
      "text/plain": [
       "   \"p (mbar)\"  \"T (degC)\"  \"Tpot (K)\"  \"Tdew (degC)\"  \"rh (%)\"  \\\n",
       "0      996.52       -8.02      265.40          -8.90      93.3   \n",
       "1      996.57       -8.41      265.01          -9.28      93.4   \n",
       "2      996.53       -8.51      264.91          -9.31      93.9   \n",
       "3      996.51       -8.31      265.12          -9.07      94.2   \n",
       "4      996.51       -8.27      265.15          -9.04      94.1   \n",
       "\n",
       "   \"VPmax (mbar)\"  \"VPact (mbar)\"  \"VPdef (mbar)\"  \"sh (g/kg)\"  \\\n",
       "0            3.33            3.11            0.22         1.94   \n",
       "1            3.23            3.02            0.21         1.89   \n",
       "2            3.21            3.01            0.20         1.88   \n",
       "3            3.26            3.07            0.19         1.92   \n",
       "4            3.27            3.08            0.19         1.92   \n",
       "\n",
       "   \"H2OC (mmol/mol)\"  \"rho (g/m**3)\"  \"wv (m/s)\"  \"max. wv (m/s)\"  \"wd (deg)\"  \n",
       "0               3.12         1307.75        1.03             1.75       152.3  \n",
       "1               3.03         1309.80        0.72             1.50       136.1  \n",
       "2               3.02         1310.24        0.19             0.63       171.6  \n",
       "3               3.08         1309.19        0.34             0.50       198.0  \n",
       "4               3.09         1309.00        0.32             0.63       214.3  "
      ]
     },
     "execution_count": 23,
     "metadata": {},
     "output_type": "execute_result"
    }
   ],
   "source": [
    "raw_data_df.head() # includes both the response (1st col i.e. T(degC)) and the predictors"
   ]
  },
  {
   "attachments": {},
   "cell_type": "markdown",
   "metadata": {},
   "source": [
    "**Question of interest**: Given data covering the previous five days and sampled once per hour (Sample 120 data points from 720 data points total data points), can we predict the temperature after 24 hours?"
   ]
  },
  {
   "cell_type": "code",
   "execution_count": 24,
   "metadata": {},
   "outputs": [
    {
     "name": "stdout",
     "output_type": "stream",
     "text": [
      "mean tensor: (14,)\n",
      "std tensor: (14,)\n"
     ]
    },
    {
     "data": {
      "text/plain": [
       "array([ 988.74929466,    8.82590329,  282.9050718 ,    4.31331863,\n",
       "         75.87275476,   13.14569946,    9.19414209,    3.95148184,\n",
       "          5.81050741,    9.30208943, 1218.45204015,    2.14977462,\n",
       "          3.56048029,  176.4405232 ])"
      ]
     },
     "execution_count": 24,
     "metadata": {},
     "output_type": "execute_result"
    }
   ],
   "source": [
    "# raw_data[i] gives a 1D array (i-th row)\n",
    "# normalize data \n",
    "\n",
    "mean = raw_data[:num_train_samples].mean(axis=0)\n",
    "raw_data -= mean\n",
    "std = raw_data[:num_train_samples].std(axis=0)\n",
    "raw_data /= std\n",
    "\n",
    "print(\"mean tensor:\", mean.shape)\n",
    "print(\"std tensor:\", std.shape)\n",
    "mean"
   ]
  },
  {
   "attachments": {},
   "cell_type": "markdown",
   "metadata": {},
   "source": [
    "### Example to understand `timeseries_dataset_from_array()`\n",
    "\n",
    "* We want batches of data from the past five days (predictors) along with a target temperature (i.e. response) 24 hours in the future.\n",
    "\n",
    "* `timeseries_dataset_from_array()` gives you windows extracted from the original timeseries (we’ll call them “sequences”).\n",
    "\n",
    "* For example, if you use data = [0 1 2 3 4 5 6] and sequence_length=3, then `timeseries_dataset_from_array()` will generate the following samples: [0 1 2], [1 2 3], [2 3 4], [3 4 5], [4 5 6].\n",
    "\n",
    "* You can also pass a targets argument (an array) to `timeseries_dataset_ from_array()`."
   ]
  },
  {
   "cell_type": "code",
   "execution_count": 22,
   "metadata": {},
   "outputs": [],
   "source": [
    "#int_sequence = np.arange(10) # array from 0 to 9\n",
    "#dummy_dataset = keras.utils.timeseries_dataset_from_array(\n",
    "\n",
    "#    # The sequences we generate will be sampled from [0 1 2 3 4 5 6] i.e. all except last three\n",
    "#    data=int_sequence[:-3],    \n",
    "\n",
    "    # The target for the sequence that starts at data[N] will be data[N + 3]  i.e. offset by 3                           \n",
    "#    targets=int_sequence[3:],   \n",
    "\n",
    "    # The sequences will be 3 steps long                            \n",
    "#    sequence_length=3,    \n",
    "\n",
    "    # The sequences will be drawn in batches of size 2                                  \n",
    "#    batch_size=2,                                           \n",
    "#)\n",
    "\n",
    "#for inputs, targets in dummy_dataset:\n",
    "#    for i in range(inputs.shape[0]):\n",
    "#        print([int(x) for x in inputs[i]], int(targets[i]))"
   ]
  },
  {
   "cell_type": "code",
   "execution_count": 23,
   "metadata": {},
   "outputs": [],
   "source": [
    "#list(dummy_dataset) # here we see that batch size = 2"
   ]
  },
  {
   "attachments": {},
   "cell_type": "markdown",
   "metadata": {},
   "source": [
    "For our current temperature forecast example, we will use following parameter values:\n",
    "\n",
    "* `sampling_rate = 6`—Observations will be sampled at one data point per hour: we will only keep one data point out of 6.\n",
    "* `sequence_length` = 120—Observations will go back 5 days (120 hours).\n",
    "* `delay` = $$\\text{sampling\\_ rate} * (\\text{sequence\\_ length} + 24 - 1)$$ —The target for a sequence will be the temperature 24 hours after the end of the sequence.\n",
    "* When making the training dataset, we’ll pass `start_index = 0` and `end_index = num_train_samples` to only use the first 50% of the data. For the validation dataset, we’ll pass `start_index = num_train_samples` and `end_index = num_train_samples + num_val_samples` to use the next 25% of the data. Similarly test dataset"
   ]
  },
  {
   "attachments": {},
   "cell_type": "markdown",
   "metadata": {},
   "source": [
    "**About code**: Note that we need to sample the first 120 predictors from the first 120x6 data points for each time series variable present in raw data. We want to predict the temperature 24 hours later i.e. (24-1)x6 data points further away."
   ]
  },
  {
   "cell_type": "code",
   "execution_count": 25,
   "metadata": {},
   "outputs": [],
   "source": [
    "# sample one data per hour (6 measurements per hour i.e. 1 measurement per 10 min)\n",
    "sampling_rate = 6 \n",
    "\n",
    "# draw sequences (predictors) of length 120\n",
    "sequence_length = 120 \n",
    "\n",
    "# amount offset needed to generate target sequence i.e. where is our first target/response value\n",
    "delay = sampling_rate * (sequence_length + 24 - 1)\n",
    "\n",
    "batch_size = 256 \n",
    "\n",
    "\n",
    "train_dataset = keras.utils.timeseries_dataset_from_array(\n",
    "\n",
    "    # where to draw samples from \n",
    "    raw_data[:-delay],\n",
    "\n",
    "    # first target location\n",
    "    targets=temperature[delay:],\n",
    "\n",
    "    # at what rate to sample points from raw_data\n",
    "    sampling_rate=sampling_rate,\n",
    "\n",
    "    # what length of sequences to sample\n",
    "    sequence_length=sequence_length,\n",
    "    shuffle=True,\n",
    "    batch_size=batch_size,\n",
    "\n",
    "    # do the operation only on the training set which starts at 0-th row and ends at 'num_train_samples' row\n",
    "    start_index=0,\n",
    "    end_index=num_train_samples)\n",
    "\n",
    "\n",
    "\n",
    "val_dataset = keras.utils.timeseries_dataset_from_array(\n",
    "    raw_data[:-delay],\n",
    "    targets=temperature[delay:],\n",
    "    sampling_rate=sampling_rate,\n",
    "    sequence_length=sequence_length,\n",
    "    shuffle=True,\n",
    "    batch_size=batch_size,\n",
    "    start_index=num_train_samples,\n",
    "    end_index=num_train_samples + num_val_samples)\n",
    "\n",
    "\n",
    "test_dataset = keras.utils.timeseries_dataset_from_array(\n",
    "    raw_data[:-delay],\n",
    "    targets=temperature[delay:],\n",
    "    sampling_rate=sampling_rate,\n",
    "    sequence_length=sequence_length,\n",
    "    shuffle=True,\n",
    "    batch_size=batch_size,\n",
    "    start_index=num_train_samples + num_val_samples)"
   ]
  },
  {
   "cell_type": "code",
   "execution_count": 26,
   "metadata": {},
   "outputs": [
    {
     "name": "stdout",
     "output_type": "stream",
     "text": [
      "<class 'tensorflow.python.data.ops.dataset_ops.BatchDataset'>\n"
     ]
    }
   ],
   "source": [
    "print(type(train_dataset))"
   ]
  },
  {
   "attachments": {},
   "cell_type": "markdown",
   "metadata": {},
   "source": [
    "### Understanding `train_dataset` structure:\n",
    "We see from the code below that `train_dataset` has two parts: a tensor of shape $256 \\times 120 \\times 14$ and another tensor of size 256. 256 here denotes the `batch_size` i.e. in the code below, we have processed a batch of $256$ input-output pairs. Here, input would imply the $120$ temperature observations from the past while output is the average temperature 24 hours later (i.e. in the future.)"
   ]
  },
  {
   "cell_type": "code",
   "execution_count": 27,
   "metadata": {},
   "outputs": [
    {
     "name": "stdout",
     "output_type": "stream",
     "text": [
      "samples shape: (256, 120, 14)\n",
      "targets shape: (256,)\n"
     ]
    }
   ],
   "source": [
    "# \"samples\" object loops over each batch of 256 input-output pairs\n",
    "# \"targets\" object loops over the response variable (i.e. temperature 24 hrs later)\n",
    "\n",
    "for samples, targets in train_dataset:\n",
    "    print(\"samples shape:\", samples.shape)\n",
    "    print(\"targets shape:\", targets.shape)\n",
    "    break"
   ]
  },
  {
   "cell_type": "code",
   "execution_count": 28,
   "metadata": {},
   "outputs": [
    {
     "name": "stdout",
     "output_type": "stream",
     "text": [
      "819\n"
     ]
    }
   ],
   "source": [
    "# there are 819 batches of 256 input output pairs \n",
    "print(len(list(train_dataset)))"
   ]
  },
  {
   "cell_type": "code",
   "execution_count": 29,
   "metadata": {},
   "outputs": [
    {
     "name": "stdout",
     "output_type": "stream",
     "text": [
      "(<tf.Tensor: shape=(256, 120, 14), dtype=float64, numpy=\n",
      "array([[[ 0.91129998,  0.38240827,  0.30735954, ..., -0.13026616,\n",
      "         -0.24126854,  0.83819695],\n",
      "        [ 1.00300957,  0.29005831,  0.20809953, ...,  0.06535352,\n",
      "          0.51204955,  1.07349019],\n",
      "        [ 0.99713075,  0.50440143,  0.42128296, ...,  0.33922107,\n",
      "          0.46039345,  0.95351393],\n",
      "        ...,\n",
      "        [ 0.00948904,  1.40851896,  1.39696374, ...,  0.48267551,\n",
      "          1.15775077,  2.13114494],\n",
      "        [-0.04106881,  1.48034671,  1.4725367 , ...,  0.47615485,\n",
      "          0.61966642, -1.87978941],\n",
      "        [-0.10573582,  1.55103433,  1.54810966, ...,  0.80218765,\n",
      "          1.10609467,  1.30412415]],\n",
      "\n",
      "       [[ 0.6855533 , -1.50221502, -1.54248609, ...,  0.13708074,\n",
      "          0.35277658, -0.30448952],\n",
      "        [ 0.63381969, -1.57518289, -1.61016337, ...,  0.03275024,\n",
      "          0.24515971, -0.15655764],\n",
      "        [ 0.56327386, -1.59798535, -1.62821064, ...,  0.03275024,\n",
      "         -0.13365167, -0.04589992],\n",
      "        ...,\n",
      "        [ 0.1576353 , -0.85006467, -0.85668966, ..., -0.50846421,\n",
      "         -0.72339212, -0.57356248],\n",
      "        [ 0.10237439, -0.88198811, -0.88376057, ..., -0.64539799,\n",
      "         -0.56411915,  0.19987668],\n",
      "        [ 0.03418009, -0.88654861, -0.88376057, ...,  1.06301389,\n",
      "          0.89086093,  0.09737269]],\n",
      "\n",
      "       [[-0.23389409, -2.00044876, -1.96885295, ..., -1.15400916,\n",
      "         -1.27439049, -1.38450879],\n",
      "        [-0.16452402, -2.11902155, -2.09180001, ..., -0.80841439,\n",
      "         -0.87836041, -1.7550374 ],\n",
      "        [-0.08574784, -2.17146721, -2.14932569, ..., -1.27790162,\n",
      "         -1.39492139,  1.6046472 ],\n",
      "        ...,\n",
      "        [ 0.28344204, -1.54667981, -1.55602154, ..., -0.57367077,\n",
      "         -0.49954903,  0.08223006],\n",
      "        [ 0.24699336, -1.53983908, -1.54699791, ..., -0.54758815,\n",
      "         -0.65451732, -0.0959871 ],\n",
      "        [ 0.22347808, -1.50107489, -1.50751949, ..., -1.19313309,\n",
      "         -1.20551569,  0.35130302]],\n",
      "\n",
      "       ...,\n",
      "\n",
      "       [[ 0.32929683, -0.52969011, -0.55101395, ..., -1.07576128,\n",
      "         -1.0849848 ,  0.23016195],\n",
      "        [ 0.34105447, -0.55819319, -0.58034077, ..., -1.05619931,\n",
      "         -1.1366409 ,  0.42235692],\n",
      "        [ 0.35398788, -0.58441602, -0.60741168, ..., -0.94534816,\n",
      "         -1.05915675,  0.61921116],\n",
      "        ...,\n",
      "        [-0.53841695,  0.47361811,  0.51264729, ..., -0.50846421,\n",
      "         -0.41345553,  0.80558204],\n",
      "        [-0.31619757,  0.16236454,  0.18554044, ..., -0.54106749,\n",
      "         -0.27570594,  1.17366454],\n",
      "        [-0.26799125,  0.04265163,  0.06259338, ..., -0.35196846,\n",
      "          0.70575992,  1.48117649]],\n",
      "\n",
      "       [[ 1.02534908, -0.6380018 , -0.71231146, ..., -1.043158  ,\n",
      "         -1.20551569,  0.15561359],\n",
      "        [ 1.07473117, -0.45672224, -0.53635054, ..., -1.12792653,\n",
      "         -1.12803155, -0.20198554],\n",
      "        [ 1.11000408, -0.18993346, -0.27466506, ..., -0.73668717,\n",
      "         -0.89557911, -0.17752436],\n",
      "        ...,\n",
      "        [-0.88174002,  0.29005831,  0.35698955, ..., -0.94534816,\n",
      "         -0.80948561, -0.9428098 ],\n",
      "        [-0.92641905,  0.25129413,  0.32202295, ..., -0.61279471,\n",
      "         -0.33597139, -1.28666407],\n",
      "        [-0.95463738,  0.30487991,  0.37842069, ..., -0.99099275,\n",
      "         -1.0505474 , -1.85719194]],\n",
      "\n",
      "       [[-0.2597609 , -1.69831617, -1.6665611 , ..., -0.81493504,\n",
      "         -0.58564252, -0.82399836],\n",
      "        [-0.13277839, -1.69261556, -1.66994496, ..., -0.75624914,\n",
      "         -0.62007992, -1.64158412],\n",
      "        [-0.01990506, -1.66069211, -1.64738587, ..., -0.76276979,\n",
      "         -0.39623683, -1.6737331 ],\n",
      "        ...,\n",
      "        [ 1.17114381, -2.42229427, -2.48884004, ..., -0.13678682,\n",
      "         -0.43067423, -0.15655764],\n",
      "        [ 1.16644075, -2.38467021, -2.45161754, ..., -0.37805109,\n",
      "         -0.41345553, -0.05288883],\n",
      "        [ 1.18290145, -2.36072762, -2.42905845, ..., -0.51498486,\n",
      "         -0.46511163, -0.08550374]]])>, <tf.Tensor: shape=(256,), dtype=float64, numpy=\n",
      "array([ 12.2 ,   3.3 ,  -2.7 ,  15.29,   9.69,  16.87,  14.73,  19.06,\n",
      "        10.84,  23.02,  -1.63,  11.14,   9.87,  -7.46,  15.12,  12.73,\n",
      "        -3.05,   6.93,  10.32,  21.13,  22.49,   9.32,   5.17,  11.37,\n",
      "        -1.65,  21.57,  -7.41,   5.59,  10.1 ,   6.49,  11.76,  13.79,\n",
      "        20.32,  24.07,   3.94,  -7.76,  12.99,  15.82,  17.43,   4.3 ,\n",
      "        16.81,  13.5 ,   7.53,   2.32,  21.79,   3.37,  13.06,  10.09,\n",
      "         9.09,  10.43,  17.61,   9.07,  20.52,   5.37,  18.5 ,  14.24,\n",
      "        17.92,   1.96,  10.42,   5.27,  18.63,  16.31,  18.66,  20.75,\n",
      "        15.42,   5.76,  12.49,  -8.73,   6.64,   7.35,   3.69,   4.66,\n",
      "        20.76,  17.  ,  21.26,  23.37,   6.48,   8.23,  17.99,   6.82,\n",
      "         4.14,  20.58,  23.59,   9.43,  -0.28,   5.23,   0.43,  12.14,\n",
      "        22.75,  22.92,  -3.87,   2.15,  13.25,   8.13,  -5.37,  -1.51,\n",
      "        -4.84,  14.24,   9.75,   6.52,   1.27,  19.96,  18.09,   7.35,\n",
      "        20.31,   7.97,   9.14,   0.17,   8.29,   4.47,   7.09,  -1.91,\n",
      "        -1.08,   3.27,  24.21,  12.04,   0.4 ,  11.51,   9.02,   8.44,\n",
      "         4.83,  12.48,   7.81,  13.31,   4.46,   9.26,  -1.55,  -2.06,\n",
      "         7.9 ,  10.79,   8.27,   0.89,  10.15,  16.63,   5.51,  -1.16,\n",
      "        18.42,   9.19,  10.91,   7.53,   4.38,  13.15,  26.56,   0.74,\n",
      "         6.58,   2.23,  10.55,   2.79,  14.44,   7.69,  11.59,  24.53,\n",
      "        16.42,   6.63,   4.2 ,  11.58,  -0.33,   1.73,  12.16,  30.24,\n",
      "        -3.45,   0.85,  -1.44,  12.91,   1.39,  22.06,   1.09,   6.36,\n",
      "       -10.42,  12.19,   0.52,  10.31,  18.79,   3.03,  11.41,   7.28,\n",
      "        20.43,  27.06,  11.25,  -0.3 ,  11.93,  10.84,  12.08,  16.6 ,\n",
      "         8.07,   6.49,  22.19,   5.63,  16.17,  11.47,  14.31,   4.19,\n",
      "         6.69,  27.1 ,  10.56,   8.23,   3.17,  20.91,  18.61,  14.44,\n",
      "        -0.14,   8.67,  15.81,  26.23,  10.89,  28.14,  12.71,  20.94,\n",
      "        14.08,  20.55,  -0.04,   4.95,   0.59,  12.18,  12.  ,  -6.09,\n",
      "        -4.03,  -5.86,  23.92,  17.22,  29.6 ,  -1.03,  10.14,  18.72,\n",
      "        -0.96,   9.4 ,  -0.29,  21.34,   3.64,  16.67,   9.11,   7.23,\n",
      "        21.36, -12.21,  16.39,  -1.62,   2.51,   4.73,   6.16,   5.11,\n",
      "        11.54,   6.46,  14.3 ,  27.33,  17.91,   7.53,  16.22,  -7.93,\n",
      "        16.88,   1.85,  -7.25,   4.66,  -2.59,   3.1 ,  10.42,  -6.8 ])>)\n"
     ]
    }
   ],
   "source": [
    "# train_dataset can be viewed as list of tensors of size . Each element of the list corresponds to a batch of 256 input-output pairs.\n",
    "# each 120x14 matrix is one input-output pairing. We process 256 such batches at once\n",
    "print(list(train_dataset)[0]) "
   ]
  },
  {
   "cell_type": "code",
   "execution_count": 30,
   "metadata": {},
   "outputs": [
    {
     "name": "stdout",
     "output_type": "stream",
     "text": [
      "tf.Tensor(\n",
      "[ 1.575e+01 -2.800e-01  1.086e+01  3.600e-01  6.490e+00  2.191e+01\n",
      " -1.332e+01 -1.126e+01 -4.970e+00  8.240e+00  1.950e+01  1.430e+00\n",
      " -1.780e+00  5.500e+00 -4.480e+00  1.915e+01  2.163e+01  4.200e+00\n",
      " -7.460e+00  9.100e+00  1.853e+01  1.800e+01  1.976e+01  1.681e+01\n",
      "  3.700e-01  1.320e+01  1.169e+01  1.182e+01  6.840e+00  1.089e+01\n",
      "  9.320e+00  1.136e+01  9.720e+00  1.009e+01  7.140e+00  8.650e+00\n",
      "  1.074e+01  1.444e+01  1.804e+01  9.790e+00 -6.520e+00  1.958e+01\n",
      "  1.827e+01  1.163e+01  4.690e+00  3.220e+00  1.655e+01  2.656e+01\n",
      " -1.260e+00  1.049e+01 -6.530e+00  1.667e+01 -6.000e-02  1.500e+00\n",
      "  2.359e+01  2.569e+01  1.124e+01  1.508e+01  3.970e+00 -6.290e+00\n",
      " -3.300e-01  8.190e+00  7.190e+00  1.697e+01 -3.790e+00  1.910e+01\n",
      "  1.089e+01  1.014e+01  4.300e+00  8.830e+00  1.994e+01  5.740e+00\n",
      "  2.145e+01  1.946e+01  1.496e+01 -3.090e+00  1.570e+00  6.450e+00\n",
      " -8.640e+00 -9.600e+00  4.300e-01  9.770e+00  1.157e+01  1.146e+01\n",
      "  1.016e+01  8.240e+00 -1.124e+01  2.034e+01 -1.630e+00  2.288e+01\n",
      "  2.679e+01  7.850e+00  8.080e+00  1.136e+01 -4.880e+00  7.470e+00\n",
      "  1.637e+01  1.591e+01  2.400e-01  1.090e+00  1.378e+01  1.902e+01\n",
      "  1.920e+01 -2.000e-02  1.772e+01  1.184e+01  1.470e+01  1.160e+00\n",
      "  1.246e+01 -1.330e+00 -1.910e+00  2.572e+01  5.710e+00 -5.750e+00\n",
      "  1.111e+01  6.860e+00  1.574e+01  7.530e+00  1.746e+01  1.866e+01\n",
      "  1.164e+01 -2.650e+00  1.356e+01  1.968e+01  6.650e+00  1.038e+01\n",
      "  8.380e+00  4.400e+00  1.397e+01  2.392e+01  1.666e+01  1.447e+01\n",
      "  2.454e+01  1.670e+01 -1.221e+01  1.130e+01 -1.210e+00  1.375e+01\n",
      "  1.962e+01 -4.800e-01  4.300e-01  1.179e+01  1.625e+01  4.330e+00\n",
      "  5.780e+00  4.470e+00  1.085e+01  2.255e+01  1.931e+01  8.650e+00\n",
      "  6.460e+00  1.286e+01 -3.450e+00  1.567e+01  1.660e+01  6.870e+00\n",
      "  7.350e+00  1.767e+01 -2.060e+00  1.424e+01  2.452e+01  1.884e+01\n",
      "  1.583e+01  2.124e+01 -5.710e+00  1.091e+01 -1.340e+00 -2.040e+00\n",
      "  2.556e+01  8.720e+00  1.347e+01  3.590e+00  1.249e+01  2.070e+01\n",
      "  6.300e-01  3.000e-02  6.170e+00  1.745e+01  1.020e+01 -3.230e+00\n",
      "  6.820e+00 -1.091e+01 -8.850e+00  1.728e+01 -3.050e+00  2.660e+00\n",
      "  9.210e+00  9.620e+00 -8.000e-01  1.940e+00  8.110e+00  1.280e+01\n",
      "  6.460e+00  3.830e+00  1.959e+01  1.244e+01  1.876e+01  3.450e+00\n",
      "  7.900e+00 -5.150e+00  3.640e+00  1.865e+01  1.755e+01  1.713e+01\n",
      "  1.857e+01  1.204e+01  1.882e+01  2.960e+01  2.173e+01  5.820e+00\n",
      "  1.299e+01  1.353e+01  1.385e+01  1.178e+01  5.830e+00 -6.410e+00\n",
      "  1.581e+01  6.700e+00  1.496e+01 -2.820e+00  2.590e+00  1.189e+01\n",
      "  1.351e+01  1.065e+01  1.004e+01  1.570e+00  1.801e+01  9.690e+00\n",
      "  5.340e+00  1.120e+01 -4.500e+00  1.154e+01  1.579e+01  1.039e+01\n",
      "  1.256e+01  5.580e+00  1.240e+00  2.203e+01  1.707e+01  1.844e+01\n",
      "  1.351e+01  1.365e+01  1.851e+01  1.104e+01  6.090e+00  1.396e+01\n",
      "  7.420e+00  1.343e+01  2.264e+01  1.090e+00  1.699e+01  5.540e+00\n",
      " -1.300e-01  9.040e+00  1.897e+01  1.781e+01], shape=(256,), dtype=float64)\n"
     ]
    }
   ],
   "source": [
    "# training response tensor\n",
    "print(list(train_dataset)[0][1])"
   ]
  },
  {
   "cell_type": "code",
   "execution_count": 31,
   "metadata": {},
   "outputs": [
    {
     "name": "stdout",
     "output_type": "stream",
     "text": [
      "tf.Tensor(\n",
      "[[-0.83000641 -1.62990879 -1.55602154 ...  1.87157524  2.03590443\n",
      "  -1.85532823]\n",
      " [-0.85234592 -1.62078781 -1.54586995 ...  1.63031097  1.65709305\n",
      "  -1.85311507]\n",
      " [-0.81942453 -1.6401699  -1.56730109 ...  1.94330246  1.79484264\n",
      "  -1.82073313]\n",
      " ...\n",
      " [-1.15216572 -1.43608788 -1.3383263  ...  0.24793189  0.14184752\n",
      "  -0.05521847]\n",
      " [-1.17332947 -1.38592247 -1.28756834 ...  0.27401451  0.03853532\n",
      "  -0.43378432]\n",
      " [-1.22036003 -1.30611386 -1.20409969 ... -0.01289435 -0.08630025\n",
      "  -0.10996491]], shape=(120, 14), dtype=float64)\n"
     ]
    }
   ],
   "source": [
    "# first sequence of 120 predictors sampled at rate 1 per hour.\n",
    "print(list(train_dataset)[0][0][0])"
   ]
  },
  {
   "attachments": {},
   "cell_type": "markdown",
   "metadata": {},
   "source": [
    "### Baseline approach\n",
    "\n",
    "We should establish a baseline that we’ll have to beat in order to demonstrate the usefulness of more-advanced machine learning models. Such \"simple baselines\" can be useful when you’re approaching a new problem for which there is no known solution (yet).\n",
    "\n",
    "**Example of a simple baseline**: Consider unbalanced classification task where 90% data belongs to class A while the rest belongs to class B. So a \"classifier\" that always predicts A is already 90% accurate. We need to do better than that in order to demonstrate usefulness. Sometimes, such elementary baselines can prove surprisingly hard to beat.\n",
    "\n",
    "The baseline we will use: predict that the temperature 24 hours from now will be equal to the temperature right now. "
   ]
  },
  {
   "cell_type": "code",
   "execution_count": 32,
   "metadata": {},
   "outputs": [
    {
     "name": "stdout",
     "output_type": "stream",
     "text": [
      "Validation MAE: 2.44\n",
      "Test MAE: 2.62\n"
     ]
    }
   ],
   "source": [
    "# define a function \"evaluate_naive_method\"\n",
    "\n",
    "def evaluate_naive_method(dataset):\n",
    "    total_abs_err = 0. \n",
    "    samples_seen = 0 \n",
    "    for samples, targets in dataset:\n",
    "\n",
    "        # as seen in line 36, samples loops over tensors of size (256, 120, 14).\n",
    "        # so \"samples[:, -1, 1]\" means consider all 256 batches, ignore the last column (i.e. last input temp measurement)\n",
    "        preds = samples[:, -1, 1] * std[1] + mean[1]         \n",
    "        total_abs_err += np.sum(np.abs(preds - targets))\n",
    "        samples_seen += samples.shape[0]\n",
    "    return total_abs_err / samples_seen\n",
    "  \n",
    "print(f\"Validation MAE: {evaluate_naive_method(val_dataset):.2f}\") \n",
    "print(f\"Test MAE: {evaluate_naive_method(test_dataset):.2f}\")"
   ]
  },
  {
   "attachments": {},
   "cell_type": "markdown",
   "metadata": {},
   "source": [
    "We observe that baseline achieves a validation MAE of 2.44 degrees Celsius and a test MAE of 2.62 degrees Celsius. So if you always assume that the temperature 24 hours in the future will be the same as it is now, you will be off by two and a half degrees on average. "
   ]
  },
  {
   "attachments": {},
   "cell_type": "markdown",
   "metadata": {},
   "source": [
    "## Callbacks and TensorBoard\n",
    "When you’re training a model, you can’t tell how many epochs will be needed to get to an optimal validation loss. Our examples so far have adopted the strategy of training for enough epochs that you begin overfitting, using the first run to figure out the proper number of epochs to train for, and then finally launching a new training run from scratch using this optimal number. Of course, this approach is wasteful. A much better way to handle this can be done by using **callback**.\n",
    "\n",
    "Callbacks are passed to the model via the callbacks argument in `fit()`, which takes a list of callbacks. You can pass any number of callbacks and write your own callbacks. *Some examples* of callbacks:\n",
    "* `keras.callbacks.EarlyStopping` : interrupts training once a target metric being monitored has stopped improving for a fixed number of epochs.  \n",
    "* `keras.callbacks.ModelCheckpoint` : lets you continually save the model during training (and, optionally, save only the current best model so far: the version of the model that achieved the best performance at the end of an epoch).\n",
    "* `keras.callbacks.LearningRateScheduler` : Dynamically adjusting learning rate parameter of the optimizer.\n",
    "* We can also write our own callbacks.\n",
    "\n",
    "Below is code to understand how callbacks are passed into the `fit()` function."
   ]
  },
  {
   "cell_type": "code",
   "execution_count": 69,
   "metadata": {},
   "outputs": [
    {
     "name": "stdout",
     "output_type": "stream",
     "text": [
      "Epoch 1/10\n",
      "1563/1563 [==============================] - 5s 3ms/step - loss: 0.2940 - accuracy: 0.9119 - val_loss: 0.1434 - val_accuracy: 0.9576\n",
      "Epoch 2/10\n",
      "1563/1563 [==============================] - 5s 3ms/step - loss: 0.1644 - accuracy: 0.9530 - val_loss: 0.1163 - val_accuracy: 0.9682\n",
      "Epoch 3/10\n",
      "1563/1563 [==============================] - 5s 3ms/step - loss: 0.1387 - accuracy: 0.9624 - val_loss: 0.1051 - val_accuracy: 0.9725\n",
      "Epoch 4/10\n",
      "1563/1563 [==============================] - 5s 3ms/step - loss: 0.1251 - accuracy: 0.9670 - val_loss: 0.1059 - val_accuracy: 0.9732\n",
      "Epoch 5/10\n",
      "1563/1563 [==============================] - 5s 3ms/step - loss: 0.1177 - accuracy: 0.9705 - val_loss: 0.1143 - val_accuracy: 0.9757\n",
      "Epoch 6/10\n",
      "1563/1563 [==============================] - 5s 3ms/step - loss: 0.1118 - accuracy: 0.9725 - val_loss: 0.1045 - val_accuracy: 0.9769\n",
      "Epoch 7/10\n",
      "1563/1563 [==============================] - 5s 3ms/step - loss: 0.1062 - accuracy: 0.9751 - val_loss: 0.1059 - val_accuracy: 0.9785\n",
      "Epoch 8/10\n",
      "1563/1563 [==============================] - 5s 3ms/step - loss: 0.1013 - accuracy: 0.9767 - val_loss: 0.1076 - val_accuracy: 0.9786\n",
      "Epoch 9/10\n",
      "1563/1563 [==============================] - 5s 3ms/step - loss: 0.1016 - accuracy: 0.9773 - val_loss: 0.1116 - val_accuracy: 0.9783\n",
      "Epoch 10/10\n",
      "1563/1563 [==============================] - 5s 3ms/step - loss: 0.0949 - accuracy: 0.9789 - val_loss: 0.1101 - val_accuracy: 0.9791\n"
     ]
    },
    {
     "data": {
      "text/plain": [
       "<keras.callbacks.History at 0x1a0cfb93b50>"
      ]
     },
     "execution_count": 69,
     "metadata": {},
     "output_type": "execute_result"
    }
   ],
   "source": [
    "# define all the callbacks\n",
    "# this list will be passed to the fit() function\n",
    "\n",
    "from keras.datasets import mnist\n",
    "\n",
    "# Load the mnist data\n",
    "(images, labels), (test_images, test_labels) = mnist.load_data()      \n",
    "images = images.reshape((60000, 28 * 28)).astype(\"float32\") / 255 \n",
    "test_images = test_images.reshape((10000, 28 * 28)).astype(\"float32\") / 255 \n",
    "train_images, val_images = images[10000:], images[:10000]\n",
    "train_labels, val_labels = labels[10000:], labels[:10000]\n",
    "\n",
    "\n",
    "# create list of desired callbacks, can pass any num. of callbacks\n",
    "callbacks_list = [                                     \n",
    "    keras.callbacks.EarlyStopping(      #  to interrupt training when \"improvement\" stops              \n",
    "        monitor=\"val_accuracy\",         #  \"improvement\" measured using mentioned metric          \n",
    "        patience=2,                     #  \"improvement\" is said to stop when metric of interest has stopped improving for two epochs             \n",
    "    ),\n",
    "    keras.callbacks.ModelCheckpoint(           # saves current weights after every epoch        \n",
    "        filepath=\"checkpoint_path.keras\",      # file to dynamicaly save best model      \n",
    "        monitor=\"val_loss\",                    # \"best\" model is one with least val_loss      \n",
    "        save_best_only=True,                   # won’t overwrite the model file unless val_loss has improved      \n",
    "    )\n",
    "]\n",
    "\n",
    "\n",
    "# define the model for mnist data\n",
    "def get_mnist_model():                                                \n",
    "    inputs = keras.Input(shape=(28 * 28,))\n",
    "    features = layers.Dense(512, activation=\"relu\")(inputs)\n",
    "    features = layers.Dropout(0.5)(features)\n",
    "    outputs = layers.Dense(10, activation=\"softmax\")(features)\n",
    "    model = keras.Model(inputs, outputs)\n",
    "    return model\n",
    "\n",
    "model = get_mnist_model()\n",
    "\n",
    "# compile the model\n",
    "model.compile(optimizer=\"rmsprop\",\n",
    "              loss=\"sparse_categorical_crossentropy\",\n",
    "              metrics=[\"accuracy\"])\n",
    "\n",
    "\n",
    "# pass the callbacks list to the fit function\n",
    "model.fit(train_images, train_labels,                  \n",
    "          epochs=10,                                   \n",
    "          callbacks=callbacks_list,                    \n",
    "          validation_data=(val_images, val_labels)) \n"
   ]
  },
  {
   "attachments": {},
   "cell_type": "markdown",
   "metadata": {},
   "source": [
    "![](./pictures/tensorboard.png)\n",
    "\n",
    "### TensorBoard\n",
    "\n",
    "Before proceeding further, we need to understand TensorBoard. TensorBoard (www.tensorflow.org/tensorboard) is a browser-based application that you can run locally. It’s the best way to monitor everything that goes on inside your model during training. With TensorBoard, you can:\n",
    "* Visually monitor metrics during training\n",
    "* Visualize your model architecture\n",
    "* Visualize histograms of activations and gradients\n",
    "* Explore embeddings in 3D\n",
    "\n",
    "The easiest way to use TensorBoard with a Keras model and the `fit()` method is to use the `keras.callbacks.TensorBoard` callback.\n",
    "\n",
    "Reference: https://www.tensorflow.org/tensorboard/get_started"
   ]
  },
  {
   "cell_type": "code",
   "execution_count": 70,
   "metadata": {},
   "outputs": [
    {
     "name": "stdout",
     "output_type": "stream",
     "text": [
      "Epoch 1/10\n",
      "1563/1563 [==============================] - 6s 3ms/step - loss: 0.2937 - accuracy: 0.9136 - val_loss: 0.1385 - val_accuracy: 0.9603\n",
      "Epoch 2/10\n",
      "1563/1563 [==============================] - 5s 3ms/step - loss: 0.1635 - accuracy: 0.9536 - val_loss: 0.1224 - val_accuracy: 0.9688\n",
      "Epoch 3/10\n",
      "1563/1563 [==============================] - 5s 3ms/step - loss: 0.1390 - accuracy: 0.9630 - val_loss: 0.1177 - val_accuracy: 0.9708\n",
      "Epoch 4/10\n",
      "1563/1563 [==============================] - 5s 3ms/step - loss: 0.1288 - accuracy: 0.9676 - val_loss: 0.1114 - val_accuracy: 0.9722\n",
      "Epoch 5/10\n",
      "1563/1563 [==============================] - 5s 3ms/step - loss: 0.1152 - accuracy: 0.9711 - val_loss: 0.1114 - val_accuracy: 0.9758\n",
      "Epoch 6/10\n",
      "1563/1563 [==============================] - 5s 3ms/step - loss: 0.1091 - accuracy: 0.9736 - val_loss: 0.1234 - val_accuracy: 0.9756\n",
      "Epoch 7/10\n",
      "1563/1563 [==============================] - 5s 3ms/step - loss: 0.1031 - accuracy: 0.9750 - val_loss: 0.1191 - val_accuracy: 0.9750\n",
      "Epoch 8/10\n",
      "1563/1563 [==============================] - 5s 3ms/step - loss: 0.1007 - accuracy: 0.9769 - val_loss: 0.1179 - val_accuracy: 0.9765\n",
      "Epoch 9/10\n",
      "1563/1563 [==============================] - 5s 3ms/step - loss: 0.0996 - accuracy: 0.9774 - val_loss: 0.1116 - val_accuracy: 0.9777\n",
      "Epoch 10/10\n",
      "1563/1563 [==============================] - 5s 4ms/step - loss: 0.0918 - accuracy: 0.9784 - val_loss: 0.1271 - val_accuracy: 0.9778\n"
     ]
    },
    {
     "data": {
      "text/plain": [
       "<keras.callbacks.History at 0x1a0cfcead70>"
      ]
     },
     "execution_count": 70,
     "metadata": {},
     "output_type": "execute_result"
    }
   ],
   "source": [
    "model = get_mnist_model()\n",
    "\n",
    "model.compile(optimizer=\"rmsprop\",\n",
    "              loss=\"sparse_categorical_crossentropy\",\n",
    "              metrics=[\"accuracy\"])\n",
    "\n",
    "# define the tensorboard callback\n",
    "tensorboard = keras.callbacks.TensorBoard(\n",
    "    log_dir=\"./logs/\",\n",
    ")\n",
    "\n",
    "model.fit(train_images, train_labels,\n",
    "          epochs=10,\n",
    "          validation_data=(val_images, val_labels),\n",
    "          callbacks=[tensorboard])"
   ]
  },
  {
   "attachments": {},
   "cell_type": "markdown",
   "metadata": {},
   "source": [
    "## Trying basic machine learning models\n",
    "\n",
    "### 1. Feed-forward network\n",
    "\n",
    "In the same way that it’s useful to establish a basic baseline before trying machine learning approaches, it’s useful to try simple, cheap machine learning models (such as small, densely connected networks) before looking into complicated and computationally expensive models such as RNNs. This is the best way to *make sure any further complexity you throw at the problem is legitimate and delivers real benefits*.\n",
    "\n",
    "We will now try some basic models. Our final goal is to get a model that performs much better than the baseline. Two basic models: feed forward neural network and 1D ConvNet"
   ]
  },
  {
   "cell_type": "code",
   "execution_count": 33,
   "metadata": {},
   "outputs": [],
   "source": [
    "# basic fully/densely connected feed-forward neural network\n",
    "# written in functional API form, not sequential model format\n",
    "\n",
    "# sequence_length = 120 (num. of measurements per used from past to predict future)\n",
    "# raw_data.shape[-1] = 14 i.e. num. of variables (response + predictors)\n",
    "inputs = keras.Input(shape=(sequence_length, raw_data.shape[-1])) \n",
    "\n",
    "# flatten the input tensor\n",
    "x = layers.Flatten()(inputs)\n",
    "\n",
    "# one hidden layer with 16 hidden units and ReLu activation\n",
    "x = layers.Dense(16, activation=\"relu\")(x)\n",
    "\n",
    "# output layer, no activation used (default)\n",
    "outputs = layers.Dense(1)(x)\n",
    "\n",
    "# model the input-output as mentioned\n",
    "model = keras.Model(inputs, outputs)"
   ]
  },
  {
   "cell_type": "code",
   "execution_count": 41,
   "metadata": {},
   "outputs": [
    {
     "name": "stdout",
     "output_type": "stream",
     "text": [
      "Epoch 1/10\n",
      "819/819 [==============================] - 11s 12ms/step - loss: 6.6209 - mae: 2.0351 - val_loss: 12.1037 - val_mae: 2.7501\n",
      "Epoch 2/10\n",
      "819/819 [==============================] - 10s 12ms/step - loss: 6.5133 - mae: 2.0179 - val_loss: 11.5010 - val_mae: 2.6732\n",
      "Epoch 3/10\n",
      "819/819 [==============================] - 11s 13ms/step - loss: 6.4321 - mae: 2.0072 - val_loss: 12.4316 - val_mae: 2.7774\n",
      "Epoch 4/10\n",
      "819/819 [==============================] - 11s 13ms/step - loss: 6.3762 - mae: 1.9975 - val_loss: 11.8343 - val_mae: 2.7247\n",
      "Epoch 5/10\n",
      "819/819 [==============================] - 11s 13ms/step - loss: 6.3246 - mae: 1.9895 - val_loss: 11.8794 - val_mae: 2.7060\n",
      "Epoch 6/10\n",
      "819/819 [==============================] - 11s 14ms/step - loss: 6.2540 - mae: 1.9780 - val_loss: 12.5062 - val_mae: 2.8035\n",
      "Epoch 7/10\n",
      "819/819 [==============================] - 11s 14ms/step - loss: 6.2014 - mae: 1.9707 - val_loss: 11.8995 - val_mae: 2.7243\n",
      "Epoch 8/10\n",
      "819/819 [==============================] - 11s 14ms/step - loss: 6.1387 - mae: 1.9599 - val_loss: 11.9297 - val_mae: 2.7280\n",
      "Epoch 9/10\n",
      "819/819 [==============================] - 11s 14ms/step - loss: 6.0785 - mae: 1.9510 - val_loss: 12.1116 - val_mae: 2.7410\n",
      "Epoch 10/10\n",
      "819/819 [==============================] - 11s 14ms/step - loss: 6.0598 - mae: 1.9465 - val_loss: 11.8667 - val_mae: 2.7171\n"
     ]
    }
   ],
   "source": [
    "# define callbacks\n",
    "# if save_best_only=True, it only saves when the model is considered the \"best\" according to the quantity monitored (default is False)\n",
    "\n",
    "callbacks = [\n",
    "    keras.callbacks.ModelCheckpoint(\"jena_dense.keras\", save_best_only=True)\n",
    "] \n",
    "\n",
    "\n",
    "# Compile model\n",
    "model.compile(optimizer=\"rmsprop\", loss=\"mse\", metrics=[\"mae\"])\n",
    "history = model.fit(train_dataset,\n",
    "                    epochs=10,\n",
    "                    validation_data=val_dataset,\n",
    "                    callbacks=callbacks)\n"
   ]
  },
  {
   "cell_type": "code",
   "execution_count": 42,
   "metadata": {},
   "outputs": [
    {
     "name": "stdout",
     "output_type": "stream",
     "text": [
      "405/405 [==============================] - 4s 8ms/step - loss: 12.3338 - mae: 2.7783\n",
      "Test MAE: 2.78\n"
     ]
    }
   ],
   "source": [
    "# save \"best\" model according to metric being monitered\n",
    "model = keras.models.load_model(\"jena_dense.keras\")  \n",
    "\n",
    "# use python f-strings to print. hHere, f stands for format\n",
    "print(f\"Test MAE: {model.evaluate(test_dataset)[1]:.2f}\") "
   ]
  },
  {
   "cell_type": "code",
   "execution_count": 45,
   "metadata": {},
   "outputs": [
    {
     "data": {
      "image/png": "[encoded data removed]",
      "text/plain": [
       "<Figure size 640x480 with 1 Axes>"
      ]
     },
     "metadata": {},
     "output_type": "display_data"
    }
   ],
   "source": [
    "# displaying the loss curves for validation and training sets\n",
    "\n",
    "# stores training mae over 10 epochs\n",
    "loss = history.history[\"mae\"] \n",
    "\n",
    "# stores val mae over 10 epochs\n",
    "val_loss = history.history[\"val_mae\"] \n",
    "\n",
    "# len(loss) = 10 i.e. num. of epochs\n",
    "epochs = range(1, len(loss) + 1)\n",
    "\n",
    "plt.figure()\n",
    "plt.plot(epochs, loss, \"bo\", label=\"Training MAE\")\n",
    "plt.plot(epochs, val_loss, \"b\", label=\"Validation MAE\")\n",
    "plt.title(\"Training and validation MAE\")\n",
    "plt.legend()\n",
    "plt.show()"
   ]
  },
  {
   "attachments": {},
   "cell_type": "markdown",
   "metadata": {},
   "source": [
    "The test and validation MAE were 2.6 and 2.4 approximately for the naive method we used earlier. Using a dense network doesn't seem to perform significantly better than the naive method we introduced. This shows the use of our baseline. Although no learning was used, our naive method does incorporate some useful information. Probably because architecture doesn't have enough capacity or the stochastic gradient descent didn't reach the required minima.\n",
    "\n",
    "* The densely connected approach first flattened the timeseries, which removed the notion of time from the input data.\n",
    "\n",
    "## 2. 1D ConvNet\n",
    "\n",
    "Reference: https://towardsdatascience.com/understanding-1d-and-3d-convolution-neural-network-keras-9d8f76e29610#:~:text=1D%20CNN%20can%20perform%20activity,the%20acceleration%20in%203%20axes.\n",
    "\n",
    "1D, 2D, 3D convnet depends on whether the kernel has to be slided in a 1D, 2D or 3D fashion. CNNs in general, are useful in scenarios where we want to finad local spatial patterns. \n",
    "\n",
    "You can thus build 1D convnets, strictly analogous to 2D convnets. They’re a great fit for any sequence data (text data and time series data) that follows the **translation invariance assumption** (meaning that if you slide a window over the sequence, the content of the window should follow the same properties independently of the location of the window).\n",
    "\n",
    "![](2Dcnn.png) ![](1dcnn.png) ![](1d.png) "
   ]
  },
  {
   "attachments": {},
   "cell_type": "markdown",
   "metadata": {},
   "source": [
    "Initial window length = 24, so that we look at 24 hours of data at a time (one cycle)."
   ]
  },
  {
   "cell_type": "code",
   "execution_count": 46,
   "metadata": {},
   "outputs": [],
   "source": [
    "# input is 120x14 i.e. 120 past measurements over all 14 variables\n",
    "# time series data along the columns\n",
    "inputs = keras.Input(shape=(sequence_length, raw_data.shape[-1]))\n",
    "\n",
    "# 8 filters, each filter is 24x14 (enough to inpt 24)\n",
    "x = layers.Conv1D(8, 24, activation=\"relu\")(inputs)\n",
    "x = layers.MaxPooling1D(2)(x)\n",
    "x = layers.Conv1D(8, 12, activation=\"relu\")(x)\n",
    "x = layers.MaxPooling1D(2)(x)\n",
    "x = layers.Conv1D(8, 6, activation=\"relu\")(x)\n",
    "\n",
    "#for each feature dimension, it takes average among all time steps.\n",
    "x = layers.GlobalAveragePooling1D()(x)\n",
    "outputs = layers.Dense(1)(x)\n",
    "\n",
    "model = keras.Model(inputs, outputs)"
   ]
  },
  {
   "cell_type": "code",
   "execution_count": 29,
   "metadata": {},
   "outputs": [
    {
     "name": "stdout",
     "output_type": "stream",
     "text": [
      "Epoch 1/10\n",
      "819/819 [==============================] - 58s 69ms/step - loss: 22.3509 - mae: 3.6951 - val_loss: 15.7666 - val_mae: 3.1678\n",
      "Epoch 2/10\n",
      "819/819 [==============================] - 50s 60ms/step - loss: 15.8924 - mae: 3.1589 - val_loss: 15.8425 - val_mae: 3.1397\n",
      "Epoch 3/10\n",
      "819/819 [==============================] - 56s 68ms/step - loss: 14.7170 - mae: 3.0377 - val_loss: 15.7605 - val_mae: 3.1319\n",
      "Epoch 4/10\n",
      "819/819 [==============================] - 55s 66ms/step - loss: 14.0032 - mae: 2.9647 - val_loss: 17.5777 - val_mae: 3.3402\n",
      "Epoch 5/10\n",
      "819/819 [==============================] - 58s 70ms/step - loss: 13.4058 - mae: 2.8945 - val_loss: 15.6207 - val_mae: 3.1371\n",
      "Epoch 6/10\n",
      "819/819 [==============================] - 38s 46ms/step - loss: 12.8099 - mae: 2.8255 - val_loss: 16.6580 - val_mae: 3.1959\n",
      "Epoch 7/10\n",
      "819/819 [==============================] - 38s 46ms/step - loss: 12.3390 - mae: 2.7727 - val_loss: 15.6042 - val_mae: 3.0884\n",
      "Epoch 8/10\n",
      "819/819 [==============================] - 35s 42ms/step - loss: 11.9683 - mae: 2.7303 - val_loss: 17.2656 - val_mae: 3.2745\n",
      "Epoch 9/10\n",
      "819/819 [==============================] - 54s 66ms/step - loss: 11.6389 - mae: 2.6922 - val_loss: 16.1569 - val_mae: 3.1729\n",
      "Epoch 10/10\n",
      "819/819 [==============================] - 49s 60ms/step - loss: 11.3538 - mae: 2.6587 - val_loss: 15.0413 - val_mae: 3.0477\n"
     ]
    }
   ],
   "source": [
    "callbacks = [\n",
    "    keras.callbacks.ModelCheckpoint(\"jena_conv.keras\",\n",
    "                                    save_best_only=True)\n",
    "]\n",
    "\n",
    "model.compile(optimizer=\"rmsprop\", loss=\"mse\", metrics=[\"mae\"])\n",
    "history = model.fit(train_dataset,\n",
    "                    epochs=10,\n",
    "                    validation_data=val_dataset,\n",
    "                    callbacks=callbacks)"
   ]
  },
  {
   "cell_type": "code",
   "execution_count": 47,
   "metadata": {},
   "outputs": [
    {
     "name": "stdout",
     "output_type": "stream",
     "text": [
      "405/405 [==============================] - 4s 9ms/step - loss: 16.8470 - mae: 3.2283\n",
      "Test MAE: 3.23\n"
     ]
    }
   ],
   "source": [
    "model = keras.models.load_model(\"jena_conv.keras\")\n",
    "print(f\"Test MAE: {model.evaluate(test_dataset)[1]:.2f}\")"
   ]
  },
  {
   "attachments": {},
   "cell_type": "markdown",
   "metadata": {},
   "source": [
    "Test MAE is 3.23 which is worse than both feed-forward NN test MAE and naive model Test MAE. Possible reasons:\n",
    "* First, weather data doesn’t quite respect the translation invariance assumption. While the data does feature daily cycles, data from a morning follows different properties than data from an evening or from the middle of the night. Weather data is only translation-invariant for a very specific timescale.\n",
    "* Second, order in our data matters—a lot. The recent past is far more informative for predicting the next day’s temperature than data from five days ago. A 1D convnet is not able to leverage this fact. In particular, our max pooling and global average pooling layers are largely destroying order information. "
   ]
  },
  {
   "attachments": {},
   "cell_type": "markdown",
   "metadata": {},
   "source": [
    "## Simple LSTM model"
   ]
  },
  {
   "attachments": {},
   "cell_type": "markdown",
   "metadata": {},
   "source": [
    "![](./pictures/lstm.png) \n",
    "\n",
    "* In the below code, the LSTM cell is unrolled `sequence_length` times and each $x_t$ is a 14-dimensional vector.\n",
    "* `return_sequences` controls whether all time-step output need to be returned or only the last time step needs to be returned.\n",
    "* Default: `return_sequences = False` i.e. only  last time step returned."
   ]
  },
  {
   "cell_type": "code",
   "execution_count": 59,
   "metadata": {},
   "outputs": [],
   "source": [
    "inputs = keras.Input(shape=(sequence_length, raw_data.shape[-1]))\n",
    "x = layers.LSTM(16)(inputs)\n",
    "outputs = layers.Dense(1)(x)\n",
    "model = keras.Model(inputs, outputs)\n",
    "\n",
    "callbacks = [\n",
    "    keras.callbacks.ModelCheckpoint(\"jena_lstm.keras\",\n",
    "                                    save_best_only=True)\n",
    "]\n",
    "model.compile(optimizer=\"rmsprop\", loss=\"mse\", metrics=[\"mae\"])"
   ]
  },
  {
   "cell_type": "code",
   "execution_count": 60,
   "metadata": {},
   "outputs": [
    {
     "data": {
      "text/plain": [
       "TensorShape([None, 1])"
      ]
     },
     "execution_count": 60,
     "metadata": {},
     "output_type": "execute_result"
    }
   ],
   "source": [
    "outputs.shape"
   ]
  },
  {
   "cell_type": "code",
   "execution_count": 61,
   "metadata": {},
   "outputs": [
    {
     "name": "stdout",
     "output_type": "stream",
     "text": [
      "Epoch 1/10\n",
      "819/819 [==============================] - 53s 61ms/step - loss: 41.6712 - mae: 4.6924 - val_loss: 12.4046 - val_mae: 2.6826\n",
      "Epoch 2/10\n",
      "819/819 [==============================] - 59s 72ms/step - loss: 11.1651 - mae: 2.5937 - val_loss: 9.6400 - val_mae: 2.4176\n",
      "Epoch 3/10\n",
      "819/819 [==============================] - 74s 90ms/step - loss: 9.7964 - mae: 2.4358 - val_loss: 9.2837 - val_mae: 2.3609\n",
      "Epoch 4/10\n",
      "819/819 [==============================] - 76s 93ms/step - loss: 9.2294 - mae: 2.3697 - val_loss: 9.4488 - val_mae: 2.3853\n",
      "Epoch 5/10\n",
      "819/819 [==============================] - 77s 93ms/step - loss: 8.9106 - mae: 2.3314 - val_loss: 9.5563 - val_mae: 2.3993\n",
      "Epoch 6/10\n",
      "819/819 [==============================] - 83s 101ms/step - loss: 8.6559 - mae: 2.2957 - val_loss: 9.7105 - val_mae: 2.4136\n",
      "Epoch 7/10\n",
      "819/819 [==============================] - 84s 102ms/step - loss: 8.4689 - mae: 2.2701 - val_loss: 9.9384 - val_mae: 2.4367\n",
      "Epoch 8/10\n",
      "819/819 [==============================] - 77s 94ms/step - loss: 8.2988 - mae: 2.2462 - val_loss: 9.9724 - val_mae: 2.4479\n",
      "Epoch 9/10\n",
      "819/819 [==============================] - 76s 93ms/step - loss: 8.1616 - mae: 2.2262 - val_loss: 9.7630 - val_mae: 2.4359\n",
      "Epoch 10/10\n",
      "819/819 [==============================] - 75s 92ms/step - loss: 8.0451 - mae: 2.2083 - val_loss: 10.3713 - val_mae: 2.5018\n"
     ]
    }
   ],
   "source": [
    "history = model.fit(train_dataset,\n",
    "                    epochs=10,\n",
    "                    validation_data=val_dataset,\n",
    "                    callbacks=callbacks)"
   ]
  },
  {
   "cell_type": "code",
   "execution_count": 50,
   "metadata": {},
   "outputs": [
    {
     "name": "stdout",
     "output_type": "stream",
     "text": [
      "405/405 [==============================] - 10s 23ms/step - loss: 10.8086 - mae: 2.5349\n",
      "Test MAE: 2.53\n"
     ]
    }
   ],
   "source": [
    "model = keras.models.load_model(\"jena_lstm.keras\") \n",
    "print(f\"Test MAE: {model.evaluate(test_dataset)[1]:.2f}\")"
   ]
  },
  {
   "cell_type": "code",
   "execution_count": 62,
   "metadata": {},
   "outputs": [
    {
     "data": {
      "image/png": "[encoded data removed]",
      "text/plain": [
       "<Figure size 640x480 with 1 Axes>"
      ]
     },
     "metadata": {},
     "output_type": "display_data"
    }
   ],
   "source": [
    "# displaying the loss curves for validation and training sets\n",
    "\n",
    "# stores training mae over 10 epochs\n",
    "loss = history.history[\"mae\"] \n",
    "\n",
    "# stores val mae over 10 epochs\n",
    "val_loss = history.history[\"val_mae\"] \n",
    "\n",
    "# len(loss) = 10 i.e. num. of epochs\n",
    "epochs = range(1, len(loss) + 1)\n",
    "\n",
    "plt.figure()\n",
    "plt.plot(epochs, loss, \"bo\", label=\"Training MAE\")\n",
    "plt.plot(epochs, val_loss, \"b\", label=\"Validation MAE\")\n",
    "plt.title(\"Training and validation MAE\")\n",
    "plt.legend()\n",
    "plt.show()"
   ]
  },
  {
   "attachments": {},
   "cell_type": "markdown",
   "metadata": {},
   "source": [
    "The LSTM model begins to overfit pretty quickly i.e. after 3rd, 4th epoch itself."
   ]
  },
  {
   "attachments": {},
   "cell_type": "markdown",
   "metadata": {},
   "source": [
    "## Simple RNN Architecture\n",
    "\n",
    "Note that $O_t = Wh_t$ where $h_t = tanh(b + V h_{t-1}+ U x_t)$\n",
    "\n",
    "![](./pictures/simplernn.png)    ![](./pictures/stack.png) \n",
    "\n",
    "\n",
    "In keras module, `SimpleRNN` layer implements the first RNN architecture above (one to the left) except that it assumes $W = I$"
   ]
  },
  {
   "attachments": {},
   "cell_type": "markdown",
   "metadata": {},
   "source": [
    "* `SimpleRNN` processes batches of sequences. This means it takes inputs for `shape` argument `(batch_size, timesteps, input_features)`, rather than `(timesteps, input_features)`.\n",
    "* We can set the timesteps entry to None (in the shape argument), which enables the network to process sequences of arbitrary length.\n",
    "* If all of your sequences have the same length, it is recommended to specify a complete input shape, since it enables `model.summary()` to display output length information"
   ]
  },
  {
   "cell_type": "code",
   "execution_count": 63,
   "metadata": {},
   "outputs": [
    {
     "data": {
      "text/plain": [
       "TensorShape([None, 16])"
      ]
     },
     "execution_count": 63,
     "metadata": {},
     "output_type": "execute_result"
    }
   ],
   "source": [
    "num_features = 14 \n",
    "# any num. of x_t's\n",
    "inputs = keras.Input(shape=(None, num_features))\n",
    "# o_t must be 16-dimensional\n",
    "outputs = layers.SimpleRNN(16)(inputs)\n",
    "\n",
    "# Note: o_t being 16-dim and x_t being 14-dim is sufficient to uniquely determine all parameter matrix dimensions\n",
    "outputs.shape"
   ]
  },
  {
   "attachments": {},
   "cell_type": "markdown",
   "metadata": {},
   "source": [
    "* Each timestep t, the output tensor, $O_t$ contains information about timesteps 0 to t in the input sequence i.e. about the entire past. For this reason, in many cases, you don’t need this full sequence of outputs; you just need the last output.\n",
    "* All recurrent layers in Keras (`SimpleRNN`, `LSTM`, and `GRU`) can be run in two different modes: they can return either full sequences of successive outputs for each timestep (a rank-3 tensor of shape `(batch_size, timesteps, output_features)`) or return only the last output for each input sequence (a rank-2 tensor of shape `(batch_ size, output_features)`). \n",
    "* These two modes are controlled by the `return_sequences` argument.\n",
    "* For `SimpleRNN` , `return_sequences = FALSE` is the default i.e. it only returns output at *last time step*\n",
    "\n",
    "\n",
    "In the current example, one input sequence = $x_1, x_2, ..., x_{120}$ where each $x_t$ is 14-dim feature vector. Corresponding to each $x_t$, there is a 16-dim $o_t$. If data is being processed in batches of, say $64$, then `return_sequences = False` will return only the $o_{120}$ corresponding to the batch of $64$ inputs. Hence output is a tensor of size $64 \\times 16$. On the other hand if we set `return_sequences = True`, then we get $o_t$ corresponding to all 120 time stamps for the batch of 64 inputs. Hence output is $64 \\times 120 \\times 16$"
   ]
  },
  {
   "cell_type": "code",
   "execution_count": 64,
   "metadata": {},
   "outputs": [
    {
     "name": "stdout",
     "output_type": "stream",
     "text": [
      "(None, 16)\n",
      "(None, 120, 16)\n"
     ]
    }
   ],
   "source": [
    "num_features = 14 \n",
    "steps = 120 \n",
    "inputs = keras.Input(shape=(steps, num_features))\n",
    "outputs = layers.SimpleRNN(16, return_sequences=False)(inputs)   \n",
    "print(outputs.shape) # (batch_size, output_features)\n",
    "\n",
    "\n",
    "num_features = 14 \n",
    "steps = 120 \n",
    "inputs = keras.Input(shape=(steps, num_features))\n",
    "outputs = layers.SimpleRNN(16, return_sequences=True)(inputs)   \n",
    "print(outputs.shape) # (batch_size, timesteps, output_features)"
   ]
  },
  {
   "attachments": {},
   "cell_type": "markdown",
   "metadata": {},
   "source": [
    "Stacked RNN layers (again using functional API)"
   ]
  },
  {
   "cell_type": "code",
   "execution_count": 65,
   "metadata": {},
   "outputs": [],
   "source": [
    "inputs = keras.Input(shape=(steps, num_features))\n",
    "x = layers.SimpleRNN(16, return_sequences=True)(inputs)\n",
    "x = layers.SimpleRNN(16, return_sequences=True)(x)\n",
    "outputs = layers.SimpleRNN(16)(x)"
   ]
  },
  {
   "attachments": {},
   "cell_type": "markdown",
   "metadata": {},
   "source": [
    "What can we do with recurrent layers in Keras? The following techniques will be used to refine our temperature-forecasting RNN.\n",
    "* Recurrent dropout—This is a variant of dropout, used to fight overfitting in recurrent layers.\n",
    "* Stacking recurrent layers—This increases the representational power of the model (at the cost of higher computational loads)."
   ]
  },
  {
   "attachments": {},
   "cell_type": "markdown",
   "metadata": {},
   "source": [
    "### Dropout\n",
    "![](./pictures/drop.png) \n",
    "\n",
    "* Dropout creates ensembles of neural networks with different model configurations to reduce over-fitting.\n",
    "* Dropout is implemented per-layer in a neural network.\n",
    "* Dropout may be implemented on any or all hidden layers in the network as well as the visible or input layer. It is not used on the output layer.\n",
    "* A common value is a probability of 0.5 for retaining the output of each node in a hidden layer and a value close to 1.0, such as 0.8, for retaining inputs\n",
    "\n",
    "### Recurrent Dropout\n",
    "* Proper way to use dropout with a recurrent network is to use the same dropout mask (the same pattern of dropped units) at every timestep, instead of using a dropout mask that varies randomly from timestep to timestep. \n",
    "* Every recurrent layer in Keras has two dropout-related arguments: `dropout`, a float specifying the dropout rate for input units of the layer, and `recurrent_dropout`, specifying the dropout rate of the recurrent units.\n",
    "* Note that networks being regularized with dropout always take much longer to fully converge, so train them larger number of epochs."
   ]
  },
  {
   "attachments": {},
   "cell_type": "markdown",
   "metadata": {},
   "source": [
    "## Dropout-regularized LSTM"
   ]
  },
  {
   "cell_type": "code",
   "execution_count": 48,
   "metadata": {},
   "outputs": [
    {
     "name": "stdout",
     "output_type": "stream",
     "text": [
      "Epoch 1/50\n",
      "819/819 [==============================] - 205s 248ms/step - loss: 30.4011 - mae: 4.0386 - val_loss: 17.0060 - val_mae: 2.8637\n",
      "Epoch 2/50\n",
      "819/819 [==============================] - 224s 274ms/step - loss: 14.8374 - mae: 2.9900 - val_loss: 9.5077 - val_mae: 2.3933\n",
      "Epoch 3/50\n",
      "819/819 [==============================] - 236s 288ms/step - loss: 14.0652 - mae: 2.9064 - val_loss: 9.5589 - val_mae: 2.3966\n",
      "Epoch 4/50\n",
      "819/819 [==============================] - 231s 282ms/step - loss: 13.5230 - mae: 2.8456 - val_loss: 9.5223 - val_mae: 2.3908\n",
      "Epoch 5/50\n",
      "819/819 [==============================] - 232s 283ms/step - loss: 13.1551 - mae: 2.8063 - val_loss: 9.5592 - val_mae: 2.3974\n",
      "Epoch 6/50\n",
      "819/819 [==============================] - 287s 351ms/step - loss: 12.7236 - mae: 2.7565 - val_loss: 9.4480 - val_mae: 2.3907\n",
      "Epoch 7/50\n",
      "819/819 [==============================] - 325s 397ms/step - loss: 12.4722 - mae: 2.7291 - val_loss: 9.3223 - val_mae: 2.3752\n",
      "Epoch 8/50\n",
      "819/819 [==============================] - 280s 341ms/step - loss: 12.1692 - mae: 2.6967 - val_loss: 9.2094 - val_mae: 2.3549\n",
      "Epoch 9/50\n",
      "819/819 [==============================] - 268s 328ms/step - loss: 11.9458 - mae: 2.6748 - val_loss: 9.8532 - val_mae: 2.4266\n",
      "Epoch 10/50\n",
      "819/819 [==============================] - 270s 329ms/step - loss: 11.7613 - mae: 2.6521 - val_loss: 9.5897 - val_mae: 2.4114\n",
      "Epoch 11/50\n",
      "819/819 [==============================] - 276s 336ms/step - loss: 11.5250 - mae: 2.6263 - val_loss: 9.4946 - val_mae: 2.3995\n",
      "Epoch 12/50\n",
      "819/819 [==============================] - 271s 330ms/step - loss: 11.2944 - mae: 2.6032 - val_loss: 9.2343 - val_mae: 2.3667\n",
      "Epoch 13/50\n",
      "819/819 [==============================] - 268s 327ms/step - loss: 11.1683 - mae: 2.5874 - val_loss: 9.4669 - val_mae: 2.4002\n",
      "Epoch 14/50\n",
      "819/819 [==============================] - 274s 335ms/step - loss: 10.9336 - mae: 2.5582 - val_loss: 9.8583 - val_mae: 2.4409\n",
      "Epoch 15/50\n",
      "819/819 [==============================] - 379s 462ms/step - loss: 10.8524 - mae: 2.5511 - val_loss: 9.9164 - val_mae: 2.4450\n",
      "Epoch 16/50\n",
      "819/819 [==============================] - 356s 435ms/step - loss: 10.6485 - mae: 2.5276 - val_loss: 9.7047 - val_mae: 2.4329\n",
      "Epoch 17/50\n",
      "819/819 [==============================] - 245s 299ms/step - loss: 10.5397 - mae: 2.5119 - val_loss: 10.0167 - val_mae: 2.4830\n",
      "Epoch 18/50\n",
      "819/819 [==============================] - 251s 307ms/step - loss: 10.3532 - mae: 2.4910 - val_loss: 10.0258 - val_mae: 2.4784\n",
      "Epoch 19/50\n",
      "819/819 [==============================] - 388s 473ms/step - loss: 10.2817 - mae: 2.4805 - val_loss: 10.0731 - val_mae: 2.4811\n",
      "Epoch 20/50\n",
      "819/819 [==============================] - 395s 482ms/step - loss: 10.1067 - mae: 2.4630 - val_loss: 9.8683 - val_mae: 2.4591\n",
      "Epoch 21/50\n",
      "819/819 [==============================] - 482s 589ms/step - loss: 10.0460 - mae: 2.4522 - val_loss: 9.8940 - val_mae: 2.4554\n",
      "Epoch 22/50\n",
      "819/819 [==============================] - 469s 573ms/step - loss: 10.0119 - mae: 2.4469 - val_loss: 9.9894 - val_mae: 2.4693\n",
      "Epoch 23/50\n",
      "819/819 [==============================] - 514s 627ms/step - loss: 9.9010 - mae: 2.4357 - val_loss: 10.3881 - val_mae: 2.5142\n",
      "Epoch 24/50\n",
      "819/819 [==============================] - 201s 246ms/step - loss: 9.8039 - mae: 2.4231 - val_loss: 9.7729 - val_mae: 2.4535\n",
      "Epoch 25/50\n",
      "819/819 [==============================] - 209s 255ms/step - loss: 9.7896 - mae: 2.4198 - val_loss: 10.2688 - val_mae: 2.5058\n",
      "Epoch 26/50\n",
      "819/819 [==============================] - 211s 257ms/step - loss: 9.7057 - mae: 2.4093 - val_loss: 10.3175 - val_mae: 2.5049\n",
      "Epoch 27/50\n",
      "819/819 [==============================] - 225s 274ms/step - loss: 9.6374 - mae: 2.4043 - val_loss: 10.1632 - val_mae: 2.5040\n",
      "Epoch 28/50\n",
      "819/819 [==============================] - 216s 264ms/step - loss: 9.5814 - mae: 2.3968 - val_loss: 10.9764 - val_mae: 2.5895\n",
      "Epoch 29/50\n",
      "819/819 [==============================] - 251s 307ms/step - loss: 9.5204 - mae: 2.3855 - val_loss: 10.9109 - val_mae: 2.5777\n",
      "Epoch 30/50\n",
      "819/819 [==============================] - 239s 292ms/step - loss: 9.4837 - mae: 2.3855 - val_loss: 10.2228 - val_mae: 2.5025\n",
      "Epoch 31/50\n",
      "819/819 [==============================] - 244s 298ms/step - loss: 9.4414 - mae: 2.3770 - val_loss: 10.1932 - val_mae: 2.4935\n",
      "Epoch 32/50\n",
      "819/819 [==============================] - 228s 278ms/step - loss: 9.3868 - mae: 2.3665 - val_loss: 10.6689 - val_mae: 2.5557\n",
      "Epoch 33/50\n",
      "819/819 [==============================] - 253s 309ms/step - loss: 9.3564 - mae: 2.3631 - val_loss: 10.4222 - val_mae: 2.5204\n",
      "Epoch 34/50\n",
      "819/819 [==============================] - 255s 311ms/step - loss: 9.2862 - mae: 2.3596 - val_loss: 10.5883 - val_mae: 2.5579\n",
      "Epoch 35/50\n",
      "819/819 [==============================] - 260s 317ms/step - loss: 9.2953 - mae: 2.3575 - val_loss: 10.8699 - val_mae: 2.5639\n",
      "Epoch 36/50\n",
      "819/819 [==============================] - 235s 286ms/step - loss: 9.2237 - mae: 2.3459 - val_loss: 10.4339 - val_mae: 2.5188\n",
      "Epoch 37/50\n",
      "819/819 [==============================] - 210s 257ms/step - loss: 9.1970 - mae: 2.3439 - val_loss: 10.8608 - val_mae: 2.5782\n",
      "Epoch 38/50\n",
      "819/819 [==============================] - 212s 259ms/step - loss: 9.1973 - mae: 2.3465 - val_loss: 10.4656 - val_mae: 2.5260\n",
      "Epoch 39/50\n",
      "819/819 [==============================] - 217s 265ms/step - loss: 9.1589 - mae: 2.3428 - val_loss: 10.6230 - val_mae: 2.5612\n",
      "Epoch 40/50\n",
      "819/819 [==============================] - 214s 261ms/step - loss: 9.1095 - mae: 2.3337 - val_loss: 11.0304 - val_mae: 2.5903\n",
      "Epoch 41/50\n",
      "819/819 [==============================] - 272s 332ms/step - loss: 9.1031 - mae: 2.3319 - val_loss: 10.3723 - val_mae: 2.5182\n",
      "Epoch 42/50\n",
      "819/819 [==============================] - 402s 491ms/step - loss: 9.0843 - mae: 2.3308 - val_loss: 11.4545 - val_mae: 2.6452\n",
      "Epoch 43/50\n",
      "819/819 [==============================] - 409s 499ms/step - loss: 9.0848 - mae: 2.3293 - val_loss: 11.0248 - val_mae: 2.5882\n",
      "Epoch 44/50\n",
      "819/819 [==============================] - 379s 462ms/step - loss: 9.0706 - mae: 2.3266 - val_loss: 10.7582 - val_mae: 2.5597\n",
      "Epoch 45/50\n",
      "819/819 [==============================] - 386s 471ms/step - loss: 9.0092 - mae: 2.3184 - val_loss: 10.7681 - val_mae: 2.5674\n",
      "Epoch 46/50\n",
      "819/819 [==============================] - 399s 487ms/step - loss: 9.0199 - mae: 2.3180 - val_loss: 11.5191 - val_mae: 2.6440\n",
      "Epoch 47/50\n",
      "819/819 [==============================] - 414s 505ms/step - loss: 8.9473 - mae: 2.3093 - val_loss: 10.6378 - val_mae: 2.5549\n",
      "Epoch 48/50\n",
      "819/819 [==============================] - 404s 493ms/step - loss: 8.9040 - mae: 2.3043 - val_loss: 10.9438 - val_mae: 2.5778\n",
      "Epoch 49/50\n",
      "819/819 [==============================] - 416s 508ms/step - loss: 8.8982 - mae: 2.3039 - val_loss: 11.0391 - val_mae: 2.5917\n",
      "Epoch 50/50\n",
      "819/819 [==============================] - 413s 504ms/step - loss: 8.8775 - mae: 2.3039 - val_loss: 10.9937 - val_mae: 2.5955\n"
     ]
    }
   ],
   "source": [
    "inputs = keras.Input(shape=(sequence_length, raw_data.shape[-1]))\n",
    "x = layers.LSTM(32, recurrent_dropout=0.25)(inputs)\n",
    "\n",
    "# 32-dim output nodes from the LSTM is dropped with prob 0.5\n",
    "x = layers.Dropout(0.5)(x)                             \n",
    "outputs = layers.Dense(1)(x)\n",
    "model = keras.Model(inputs, outputs)\n",
    "  \n",
    "callbacks = [\n",
    "    keras.callbacks.ModelCheckpoint(\"jena_lstm_dropout.keras\",\n",
    "                                    save_best_only=True)\n",
    "]\n",
    "model.compile(optimizer=\"rmsprop\", loss=\"mse\", metrics=[\"mae\"])\n",
    "history = model.fit(train_dataset,\n",
    "                    epochs=50,\n",
    "                    validation_data=val_dataset,\n",
    "                    callbacks=callbacks)  "
   ]
  },
  {
   "cell_type": "code",
   "execution_count": 49,
   "metadata": {},
   "outputs": [
    {
     "data": {
      "image/png": "[encoded data removed]",
      "text/plain": [
       "<Figure size 640x480 with 1 Axes>"
      ]
     },
     "metadata": {},
     "output_type": "display_data"
    }
   ],
   "source": [
    "# displaying the loss curves for validation and training sets\n",
    "\n",
    "# stores training mae over 10 epochs\n",
    "loss = history.history[\"mae\"] \n",
    "\n",
    "# stores val mae over 10 epochs\n",
    "val_loss = history.history[\"val_mae\"] \n",
    "\n",
    "# len(loss) = 10 i.e. num. of epochs\n",
    "epochs = range(1, len(loss) + 1)\n",
    "\n",
    "plt.figure()\n",
    "plt.plot(epochs, loss, \"bo\", label=\"Training MAE\")\n",
    "plt.plot(epochs, val_loss, \"b\", label=\"Validation MAE\")\n",
    "plt.title(\"Training and validation MAE\")\n",
    "plt.legend()\n",
    "plt.show()"
   ]
  },
  {
   "cell_type": "code",
   "execution_count": null,
   "metadata": {},
   "outputs": [],
   "source": [
    "model = get_mnist_model()\n",
    "\n",
    "model.compile(optimizer=\"rmsprop\",                                    \n",
    "              loss=\"sparse_categorical_crossentropy\",                 \n",
    "              metrics=[\"accuracy\"]) \n",
    "\n",
    "\n",
    "model.fit(train_images, train_labels,                                 \n",
    "          epochs=3,                                                   \n",
    "          validation_data=(val_images, val_labels))  \n",
    "\n",
    "# outputs the loss and metric (accuracy) on new data (test data).\n",
    "model.evaluate(test_images, test_labels)\n",
    "\n",
    "# outputs classification probabilities on new data (test data)\n",
    "model.predict(test_images)"
   ]
  }
 ],
 "metadata": {
  "kernelspec": {
   "display_name": "tf",
   "language": "python",
   "name": "python3"
  },
  "language_info": {
   "codemirror_mode": {
    "name": "ipython",
    "version": 3
   },
   "file_extension": ".py",
   "mimetype": "text/x-python",
   "name": "python",
   "nbconvert_exporter": "python",
   "pygments_lexer": "ipython3",
   "version": "3.10.8"
  },
  "orig_nbformat": 4,
  "vscode": {
   "interpreter": {
    "hash": "3cd3977e83b375402d32c0cbf11b3b0f3f7432503fe0f985eda8effc49de1364"
   }
  }
 },
 "nbformat": 4,
 "nbformat_minor": 2
}
